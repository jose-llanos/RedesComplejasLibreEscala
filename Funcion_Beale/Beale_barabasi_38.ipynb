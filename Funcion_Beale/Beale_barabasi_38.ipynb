{
 "cells": [
  {
   "cell_type": "code",
   "execution_count": 1,
   "metadata": {},
   "outputs": [],
   "source": [
    "import random\n",
    "\n",
    "import networkx as nx"
   ]
  },
  {
   "cell_type": "code",
   "execution_count": 2,
   "metadata": {},
   "outputs": [],
   "source": [
    "def func1(x):\n",
    "    term1 = (1.500 - x[0] + x[0]*x[1])**2\n",
    "    term2 = (2.250 - x[0] + x[0]*x[1]**2)**2\n",
    "    term3 = (2.625 - x[0] + x[0]*x[1]**3)**2\n",
    "    return term1 + term2 + term3"
   ]
  },
  {
   "cell_type": "code",
   "execution_count": 3,
   "metadata": {},
   "outputs": [],
   "source": [
    "def ensure_bounds(vec, bounds):\n",
    "\n",
    "    vec_new = []\n",
    "    for i in range(len(vec)):\n",
    "\n",
    "        if vec[i] < bounds[i][0]:\n",
    "            vec_new.append(bounds[i][0])\n",
    "\n",
    "        if vec[i] > bounds[i][1]:\n",
    "            vec_new.append(bounds[i][1])\n",
    "\n",
    "        if bounds[i][0] <= vec[i] <= bounds[i][1]:\n",
    "            vec_new.append(vec[i])\n",
    "        \n",
    "    return vec_new"
   ]
  },
  {
   "cell_type": "code",
   "execution_count": 4,
   "metadata": {},
   "outputs": [],
   "source": [
    "cost_func = func1                   # Cost function\n",
    "bounds = [(-4.5,4.5),(-4.5,4.5)]    # Bounds [(x1_min, x1_max), (x2_min, x2_max),...]\n",
    "popsize = 100                       # Population size, must be >= 4\n",
    "mutate = 0.1                        # Mutation factor [0,2]\n",
    "rewiring = 0.3                      # Recombination rate [0,1]\n",
    "maxiter = 50                        # Max number of generations (maxiter)"
   ]
  },
  {
   "cell_type": "code",
   "execution_count": 5,
   "metadata": {},
   "outputs": [],
   "source": [
    "def main(cost_func, bounds, popsize, mutate, rewiring, maxiter):\n",
    "    #G = nx.generators.random_graphs.watts_strogatz_graph(popsize,3,rewiring)\n",
    "    G = nx.generators.random_graphs.barabasi_albert_graph(popsize,3,0)\n",
    "    \n",
    "    population = []\n",
    "    for i in range(0,popsize):\n",
    "        indv = []\n",
    "        for j in range(len(bounds)):\n",
    "            indv.append(random.uniform(bounds[j][0],bounds[j][1]))\n",
    "        population.append(indv)\n",
    "    scores = []    \n",
    "    \n",
    "    for l in range(0,maxiter):            \n",
    "        gen_scores=[]    \n",
    "        for j in range(0, popsize):        \n",
    "            candidato = population[j]\n",
    "            vecinos=[]\n",
    "            for k in G[j]:\n",
    "                vecinos.append(k)\n",
    "                \n",
    "            if(len(vecinos)>0):\n",
    "                random_index = random.sample(vecinos, 1)        \n",
    "                \n",
    "                pareja = population[random_index[0]]\n",
    "                \n",
    "                child = []\n",
    "                \n",
    "                for i in range(len(candidato)):\n",
    "                    if (int(100 * random.random()) < 50):\n",
    "                        child.append(candidato[i])\n",
    "                    else:\n",
    "                        child.append(pareja[i])\n",
    "                        \n",
    "                for i in range(len(bounds)):\n",
    "                    if random.random() < mutate:\n",
    "                         child[i] = random.uniform(bounds[i][0],bounds[i][1])   \n",
    "                         \n",
    "                score_individuo  = cost_func(candidato)\n",
    "                score_child = cost_func(child)\n",
    "                \n",
    "                if(score_child < score_individuo):\n",
    "                    population[j] =  child\n",
    "                    G.add_edge(j,random_index[0])\n",
    "                    gen_scores.append(score_child)\n",
    "                gen_scores.append(score_individuo)\n",
    "                \n",
    "        for j in range(0, popsize):            \n",
    "            aristas = G.adj[j]\n",
    "            \n",
    "            vecinos=[]\n",
    "            for k in aristas:\n",
    "                vecinos.append(k)\n",
    "            \n",
    "            for i in range(0,len(vecinos)):\n",
    "                if random.random() < rewiring:\n",
    "                    \n",
    "                    random_index = int(random.random()*100)\n",
    "                    \n",
    "                    G.remove_edge(j, vecinos[i])\n",
    "                    \n",
    "                    G.add_edge(j,random_index)\n",
    "                    \n",
    "        gen_best = min(gen_scores)\n",
    "        scores.append(gen_best)\n",
    "        \n",
    "    return scores"
   ]
  },
  {
   "cell_type": "code",
   "execution_count": 6,
   "metadata": {},
   "outputs": [
    {
     "name": "stdout",
     "output_type": "stream",
     "text": [
      "\n",
      "\n",
      "Promedios de las iteraciones\n",
      "0.385119010;0.272771523;0.189431759;0.138326121;0.114110870;0.107140591;0.094641719;0.074783347;0.068296878;0.062508070;0.054940132;0.045130706;0.040976090;0.037790503;0.034312221;0.032828614;0.029021797;0.028575581;0.025169749;0.024337189;0.022637422;0.022188660;0.021581311;0.020330686;0.020289380;0.019214010;0.018866170;0.016720405;0.016357080;0.015640492;0.015542093;0.015481178;0.015125795;0.014990823;0.014576539;0.014367035;0.014452328;0.013975813;0.013951422;0.013868006;0.013560121;0.013475829;0.013243216;0.013120680;0.012815055;0.012733680;0.012710405;0.012270383;0.012158281;0.012056889;"
     ]
    }
   ],
   "source": [
    "iteraciones = []      \n",
    "promedios = []\n",
    "\n",
    "numero_iteraciones = 100\n",
    "\n",
    "for i in range(0,numero_iteraciones):\n",
    "    iteracionTemporal = main(cost_func, bounds, popsize, mutate, rewiring, maxiter)\n",
    "    iteraciones.append(iteracionTemporal)\n",
    "    \n",
    "for i in range(0,maxiter):\n",
    "    sumatoria_temporal = 0\n",
    "    for j in range(0,numero_iteraciones):\n",
    "        sumatoria_temporal = sumatoria_temporal + iteraciones[j][i]\n",
    "        \n",
    "    promedio_temporal = sumatoria_temporal / numero_iteraciones\n",
    "    promedios.append(promedio_temporal)\n",
    "res=open(\"ResultadosTXT/Beale_barabasi.txt\",\"w\")   \n",
    "print(\"\\n\")\n",
    "print(\"Promedios de las iteraciones\")\n",
    "for i in range(0,maxiter):\n",
    "    print(\"%.9f\"%promedios[i], end=';')\n",
    "    res.write(str(promedios[i])+',')\n",
    "res.close()"
   ]
  },
  {
   "cell_type": "code",
   "execution_count": null,
   "metadata": {},
   "outputs": [],
   "source": []
  }
 ],
 "metadata": {
  "kernelspec": {
   "display_name": "Python 3",
   "language": "python",
   "name": "python3"
  },
  "language_info": {
   "codemirror_mode": {
    "name": "ipython",
    "version": 3
   },
   "file_extension": ".py",
   "mimetype": "text/x-python",
   "name": "python",
   "nbconvert_exporter": "python",
   "pygments_lexer": "ipython3",
   "version": "3.8.3"
  }
 },
 "nbformat": 4,
 "nbformat_minor": 4
}
