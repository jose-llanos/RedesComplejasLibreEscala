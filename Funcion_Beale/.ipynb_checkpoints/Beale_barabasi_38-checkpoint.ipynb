{
 "cells": [
  {
   "cell_type": "code",
   "execution_count": 6,
   "metadata": {},
   "outputs": [],
   "source": [
    "import random\n",
    "\n",
    "import networkx as nx"
   ]
  },
  {
   "cell_type": "code",
   "execution_count": 7,
   "metadata": {},
   "outputs": [],
   "source": [
    "def func1(x):\n",
    "    term1 = (1.500 - x[0] + x[0]*x[1])**2\n",
    "    term2 = (2.250 - x[0] + x[0]*x[1]**2)**2\n",
    "    term3 = (2.625 - x[0] + x[0]*x[1]**3)**2\n",
    "    return term1 + term2 + term3"
   ]
  },
  {
   "cell_type": "code",
   "execution_count": 8,
   "metadata": {},
   "outputs": [],
   "source": [
    "def ensure_bounds(vec, bounds):\n",
    "\n",
    "    vec_new = []\n",
    "    for i in range(len(vec)):\n",
    "\n",
    "        if vec[i] < bounds[i][0]:\n",
    "            vec_new.append(bounds[i][0])\n",
    "\n",
    "        if vec[i] > bounds[i][1]:\n",
    "            vec_new.append(bounds[i][1])\n",
    "\n",
    "        if bounds[i][0] <= vec[i] <= bounds[i][1]:\n",
    "            vec_new.append(vec[i])\n",
    "        \n",
    "    return vec_new"
   ]
  },
  {
   "cell_type": "code",
   "execution_count": 9,
   "metadata": {},
   "outputs": [],
   "source": [
    "cost_func = func1                   # Cost function\n",
    "bounds = [(-4.5,4.5),(-4.5,4.5)]    # Bounds [(x1_min, x1_max), (x2_min, x2_max),...]\n",
    "popsize = 100                       # Population size, must be >= 4\n",
    "mutate = 0.1                        # Mutation factor [0,2]\n",
    "rewiring = 0.3                      # Recombination rate [0,1]\n",
    "maxiter = 50                        # Max number of generations (maxiter)"
   ]
  },
  {
   "cell_type": "code",
   "execution_count": 10,
   "metadata": {},
   "outputs": [],
   "source": [
    "def main(cost_func, bounds, popsize, mutate, rewiring, maxiter):\n",
    "    #G = nx.generators.random_graphs.watts_strogatz_graph(popsize,3,rewiring)\n",
    "    G = nx.generators.random_graphs.barabasi_albert_graph(popsize,3,0)\n",
    "    \n",
    "    population = []\n",
    "    for i in range(0,popsize):\n",
    "        indv = []\n",
    "        for j in range(len(bounds)):\n",
    "            indv.append(random.uniform(bounds[j][0],bounds[j][1]))\n",
    "        population.append(indv)\n",
    "    scores = []    \n",
    "    \n",
    "    for l in range(0,maxiter):            \n",
    "        gen_scores=[]    \n",
    "        for j in range(0, popsize):        \n",
    "            candidato = population[j]\n",
    "            vecinos=[]\n",
    "            for k in G[j]:\n",
    "                vecinos.append(k)\n",
    "                \n",
    "            if(len(vecinos)>0):\n",
    "                random_index = random.sample(vecinos, 1)        \n",
    "                \n",
    "                pareja = population[random_index[0]]\n",
    "                \n",
    "                child = []\n",
    "                \n",
    "                for i in range(len(candidato)):\n",
    "                    if (int(100 * random.random()) < 50):\n",
    "                        child.append(candidato[i])\n",
    "                    else:\n",
    "                        child.append(pareja[i])\n",
    "                        \n",
    "                for i in range(len(bounds)):\n",
    "                    if random.random() < mutate:\n",
    "                         child[i] = random.uniform(bounds[i][0],bounds[i][1])   \n",
    "                         \n",
    "                score_individuo  = cost_func(candidato)\n",
    "                score_child = cost_func(child)\n",
    "                \n",
    "                if(score_child < score_individuo):\n",
    "                    population[j] =  child\n",
    "                    G.add_edge(j,random_index[0])\n",
    "                    gen_scores.append(score_child)\n",
    "                gen_scores.append(score_individuo)\n",
    "                \n",
    "        for j in range(0, popsize):            \n",
    "            aristas = G.adj[j]\n",
    "            \n",
    "            vecinos=[]\n",
    "            for k in aristas:\n",
    "                vecinos.append(k)\n",
    "            \n",
    "            for i in range(0,len(vecinos)):\n",
    "                if random.random() < rewiring:\n",
    "                    \n",
    "                    random_index = int(random.random()*100)\n",
    "                    \n",
    "                    G.remove_edge(j, vecinos[i])\n",
    "                    \n",
    "                    G.add_edge(j,random_index)\n",
    "                    \n",
    "        gen_best = min(gen_scores)\n",
    "        scores.append(gen_best)\n",
    "        \n",
    "    return scores"
   ]
  },
  {
   "cell_type": "code",
   "execution_count": 1,
   "metadata": {},
   "outputs": [
    {
     "ename": "NameError",
     "evalue": "name 'main' is not defined",
     "output_type": "error",
     "traceback": [
      "\u001b[1;31m---------------------------------------------------------------------------\u001b[0m",
      "\u001b[1;31mNameError\u001b[0m                                 Traceback (most recent call last)",
      "\u001b[1;32m<ipython-input-1-068cd4be7d11>\u001b[0m in \u001b[0;36m<module>\u001b[1;34m\u001b[0m\n\u001b[0;32m      5\u001b[0m \u001b[1;33m\u001b[0m\u001b[0m\n\u001b[0;32m      6\u001b[0m \u001b[1;32mfor\u001b[0m \u001b[0mi\u001b[0m \u001b[1;32min\u001b[0m \u001b[0mrange\u001b[0m\u001b[1;33m(\u001b[0m\u001b[1;36m0\u001b[0m\u001b[1;33m,\u001b[0m\u001b[0mnumero_iteraciones\u001b[0m\u001b[1;33m)\u001b[0m\u001b[1;33m:\u001b[0m\u001b[1;33m\u001b[0m\u001b[1;33m\u001b[0m\u001b[0m\n\u001b[1;32m----> 7\u001b[1;33m     \u001b[0miteracionTemporal\u001b[0m \u001b[1;33m=\u001b[0m \u001b[0mmain\u001b[0m\u001b[1;33m(\u001b[0m\u001b[0mcost_func\u001b[0m\u001b[1;33m,\u001b[0m \u001b[0mbounds\u001b[0m\u001b[1;33m,\u001b[0m \u001b[0mpopsize\u001b[0m\u001b[1;33m,\u001b[0m \u001b[0mmutate\u001b[0m\u001b[1;33m,\u001b[0m \u001b[0mrewiring\u001b[0m\u001b[1;33m,\u001b[0m \u001b[0mmaxiter\u001b[0m\u001b[1;33m)\u001b[0m\u001b[1;33m\u001b[0m\u001b[1;33m\u001b[0m\u001b[0m\n\u001b[0m\u001b[0;32m      8\u001b[0m     \u001b[0miteraciones\u001b[0m\u001b[1;33m.\u001b[0m\u001b[0mappend\u001b[0m\u001b[1;33m(\u001b[0m\u001b[0miteracionTemporal\u001b[0m\u001b[1;33m)\u001b[0m\u001b[1;33m\u001b[0m\u001b[1;33m\u001b[0m\u001b[0m\n\u001b[0;32m      9\u001b[0m \u001b[1;33m\u001b[0m\u001b[0m\n",
      "\u001b[1;31mNameError\u001b[0m: name 'main' is not defined"
     ]
    }
   ],
   "source": [
    "iteraciones = []      \n",
    "promedios = []\n",
    "\n",
    "numero_iteraciones = 100\n",
    "\n",
    "for i in range(0,numero_iteraciones):\n",
    "    iteracionTemporal = main(cost_func, bounds, popsize, mutate, rewiring, maxiter)\n",
    "    iteraciones.append(iteracionTemporal)\n",
    "    \n",
    "for i in range(0,maxiter):\n",
    "    sumatoria_temporal = 0\n",
    "    for j in range(0,numero_iteraciones):\n",
    "        sumatoria_temporal = sumatoria_temporal + iteraciones[j][i]\n",
    "        \n",
    "    promedio_temporal = sumatoria_temporal / numero_iteraciones\n",
    "    promedios.append(promedio_temporal)\n",
    "res=open(\"ResultadosTXT/Beale_barabasi.txt\",\"w\")   \n",
    "print(\"\\n\")\n",
    "print(\"Promedios de las iteraciones\")\n",
    "for i in range(0,maxiter):\n",
    "    print(\"%.9f\"%promedios[i], end=';')\n",
    "    res.write(str(promedios[i])+',')\n",
    "res.close()"
   ]
  },
  {
   "cell_type": "code",
   "execution_count": null,
   "metadata": {},
   "outputs": [],
   "source": []
  }
 ],
 "metadata": {
  "kernelspec": {
   "display_name": "Python 3",
   "language": "python",
   "name": "python3"
  },
  "language_info": {
   "codemirror_mode": {
    "name": "ipython",
    "version": 3
   },
   "file_extension": ".py",
   "mimetype": "text/x-python",
   "name": "python",
   "nbconvert_exporter": "python",
   "pygments_lexer": "ipython3",
   "version": "3.8.3"
  }
 },
 "nbformat": 4,
 "nbformat_minor": 4
}
