{
 "cells": [
  {
   "cell_type": "code",
   "execution_count": 2,
   "metadata": {},
   "outputs": [],
   "source": [
    "import random\n",
    "\n",
    "import networkx as nx"
   ]
  },
  {
   "cell_type": "code",
   "execution_count": 3,
   "metadata": {},
   "outputs": [],
   "source": [
    "def func1(x):\n",
    "    term1 = (1.500 - x[0] + x[0]*x[1])**2\n",
    "    term2 = (2.250 - x[0] + x[0]*x[1]**2)**2\n",
    "    term3 = (2.625 - x[0] + x[0]*x[1]**3)**2\n",
    "    return term1 + term2 + term3"
   ]
  },
  {
   "cell_type": "code",
   "execution_count": 4,
   "metadata": {},
   "outputs": [],
   "source": [
    "def ensure_bounds(vec, bounds):\n",
    "\n",
    "    vec_new = []\n",
    "    for i in range(len(vec)):\n",
    "\n",
    "        if vec[i] < bounds[i][0]:\n",
    "            vec_new.append(bounds[i][0])\n",
    "\n",
    "        if vec[i] > bounds[i][1]:\n",
    "            vec_new.append(bounds[i][1])\n",
    "\n",
    "        if bounds[i][0] <= vec[i] <= bounds[i][1]:\n",
    "            vec_new.append(vec[i])\n",
    "        \n",
    "    return vec_new"
   ]
  },
  {
   "cell_type": "code",
   "execution_count": 5,
   "metadata": {},
   "outputs": [],
   "source": [
    "cost_func = func1                   # Cost function\n",
    "bounds = [(-4.5,4.5),(-4.5,4.5)]    # Bounds [(x1_min, x1_max), (x2_min, x2_max),...]\n",
    "popsize = 100                       # Population size, must be >= 4\n",
    "mutate = 0.1                        # Mutation factor [0,2]\n",
    "rewiring = 0.3                      # Recombination rate [0,1]\n",
    "maxiter = 50                        # Max number of generations (maxiter)"
   ]
  },
  {
   "cell_type": "code",
   "execution_count": 6,
   "metadata": {},
   "outputs": [],
   "source": [
    "def main(cost_func, bounds, popsize, mutate, rewiring, maxiter):\n",
    "    #G = nx.generators.random_graphs.watts_strogatz_graph(popsize,3,rewiring)\n",
    "    G = nx.generators.random_graphs.barabasi_albert_graph(popsize,3,0)\n",
    "    population = []\n",
    "    for i in range(0,popsize):\n",
    "        indv = []\n",
    "        for j in range(len(bounds)):\n",
    "            indv.append(random.uniform(bounds[j][0],bounds[j][1]))\n",
    "        population.append(indv)\n",
    "    scores = []    \n",
    "    \n",
    "    for l in range(0,maxiter):            \n",
    "        gen_scores=[]    \n",
    "        for j in range(0, popsize):        \n",
    "            candidato = population[j]            \n",
    "            \n",
    "            mejor_vecino = 0\n",
    "            puntaje_mejor_vecino = 100000000\n",
    "            \n",
    "            for k in G[j]:\n",
    "                fitness_vecino = cost_func(population[k])\n",
    "                if(fitness_vecino<puntaje_mejor_vecino):\n",
    "                    puntaje_mejor_vecino = fitness_vecino\n",
    "                    mejor_vecino = k\n",
    "                \n",
    "            if(puntaje_mejor_vecino<100000000):\n",
    "                pareja = population[mejor_vecino]                \n",
    "                child = []\n",
    "                \n",
    "                for i in range(len(candidato)):\n",
    "                    if (int(100 * random.random()) < 50):\n",
    "                        child.append(candidato[i])\n",
    "                    else:\n",
    "                        child.append(pareja[i])\n",
    "                        \n",
    "                for i in range(len(bounds)):\n",
    "                    if random.random() < mutate:\n",
    "                         child[i] = random.uniform(bounds[i][0],bounds[i][1])   \n",
    "                         \n",
    "                score_individuo  = cost_func(candidato)\n",
    "                score_child = cost_func(child)\n",
    "                \n",
    "                if(score_child < score_individuo):                    \n",
    "                    population[j] =  child\n",
    "                    G.add_edge(j,mejor_vecino)\n",
    "                    gen_scores.append(score_child)\n",
    "                gen_scores.append(score_individuo)\n",
    "                \n",
    "        for j in range(0, popsize):            \n",
    "            aristas = G.adj[j]\n",
    "            \n",
    "            vecinos=[]\n",
    "            for k in aristas:                \n",
    "                vecinos.append(k)                        \n",
    "            \n",
    "            for i in range(0,len(vecinos)):\n",
    "                if random.random() < rewiring:\n",
    "                    \n",
    "                    random_index = int(random.random()*100)\n",
    "                    G.remove_edge(j, vecinos[i])\n",
    "                    G.add_edge(j,random_index)\n",
    "                    \n",
    "        gen_best = min(gen_scores)\n",
    "        scores.append(gen_best)\n",
    "        \n",
    "    return scores"
   ]
  },
  {
   "cell_type": "code",
   "execution_count": 7,
   "metadata": {},
   "outputs": [
    {
     "name": "stdout",
     "output_type": "stream",
     "text": [
      "\n",
      "\n",
      "Promedios de las iteraciones\n",
      "0.312638262;0.210590230;0.139596755;0.114469377;0.095812824;0.089282780;0.081299239;0.074376864;0.069141479;0.066565767;0.063088856;0.062519850;0.059841595;0.057720455;0.052437632;0.051494505;0.049863866;0.049577332;0.043158645;0.042832295;0.042239354;0.041242717;0.040337381;0.040313699;0.039877463;0.038263859;0.037743897;0.037735511;0.037656425;0.036994248;0.036959368;0.036899330;0.035453834;0.034864607;0.034695636;0.034528892;0.033989633;0.033368764;0.032832507;0.032754207;0.032607900;0.032533583;0.032363624;0.032225966;0.031644937;0.030852498;0.030630327;0.030199121;0.030160382;0.029921640;"
     ]
    }
   ],
   "source": [
    "iteraciones = []      \n",
    "promedios = []\n",
    "\n",
    "numero_iteraciones = 100\n",
    "\n",
    "for i in range(0,numero_iteraciones):\n",
    "    iteracionTemporal = main(cost_func, bounds, popsize, mutate, rewiring, maxiter)\n",
    "    iteraciones.append(iteracionTemporal)\n",
    "    \n",
    "for i in range(0,maxiter):\n",
    "    sumatoria_temporal = 0\n",
    "    for j in range(0,numero_iteraciones):\n",
    "        sumatoria_temporal = sumatoria_temporal + iteraciones[j][i]\n",
    "        \n",
    "    promedio_temporal = sumatoria_temporal / numero_iteraciones\n",
    "    promedios.append(promedio_temporal)\n",
    "res=open(\"ResultadosTXT/Beale_barabasibest.txt\",\"w\") \n",
    "print(\"\\n\")\n",
    "print(\"Promedios de las iteraciones\")\n",
    "for i in range(0,maxiter):\n",
    "    #print(promedios[i])\n",
    "    print(\"%.9f\"%promedios[i], end=';')\n",
    "    res.write(str(promedios[i])+',')\n",
    "res.close()"
   ]
  },
  {
   "cell_type": "code",
   "execution_count": null,
   "metadata": {},
   "outputs": [],
   "source": []
  }
 ],
 "metadata": {
  "kernelspec": {
   "display_name": "Python 3",
   "language": "python",
   "name": "python3"
  },
  "language_info": {
   "codemirror_mode": {
    "name": "ipython",
    "version": 3
   },
   "file_extension": ".py",
   "mimetype": "text/x-python",
   "name": "python",
   "nbconvert_exporter": "python",
   "pygments_lexer": "ipython3",
   "version": "3.8.3"
  }
 },
 "nbformat": 4,
 "nbformat_minor": 4
}
