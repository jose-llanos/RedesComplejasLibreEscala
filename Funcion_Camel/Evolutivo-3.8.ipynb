{
 "cells": [
  {
   "cell_type": "markdown",
   "metadata": {},
   "source": [
    "**Importo las librerias**"
   ]
  },
  {
   "cell_type": "code",
   "execution_count": 1,
   "metadata": {},
   "outputs": [],
   "source": [
    "import random\n",
    "import operator"
   ]
  },
  {
   "cell_type": "code",
   "execution_count": 2,
   "metadata": {},
   "outputs": [],
   "source": [
    "def fitness(x):\n",
    "    term1 = 2*(x[0]*x[0])\n",
    "    term2 = (x[0] ** 4)*-1.05\n",
    "    term3 = (x[0] ** 6)/6\n",
    "    term4 = (x[0]*x[1])+(x[1] ** 2)\n",
    "    term5 = term1 + term2 + term3 + term4\n",
    "    return term5"
   ]
  },
  {
   "cell_type": "code",
   "execution_count": 3,
   "metadata": {},
   "outputs": [],
   "source": [
    "#genetic algorithm function\n",
    "def generateInd (bounds):\t\n",
    "   indv = []        \n",
    "   for j in range(len(bounds)):              \n",
    "       indv.append(random.uniform(bounds[j][0],bounds[j][1]))\n",
    "   return indv"
   ]
  },
  {
   "cell_type": "code",
   "execution_count": 4,
   "metadata": {},
   "outputs": [],
   "source": [
    "def generateFirstPopulation(sizePopulation, bounds):\n",
    "    population = []    \n",
    "    i = 0\n",
    "    while i < sizePopulation:\n",
    "        population.append(generateInd(bounds))\n",
    "        i+=1    \n",
    "    return population"
   ]
  },
  {
   "cell_type": "code",
   "execution_count": 5,
   "metadata": {},
   "outputs": [],
   "source": [
    "def computePerfPopulation(population):\n",
    "    populationPerf = {}\n",
    "    populationSorted = {}\n",
    "    i = 0\n",
    "    for individual in population:\n",
    "        populationPerf[i] = fitness(individual)\n",
    "        i+=1\n",
    "    arraySorted = sorted(populationPerf.items(), key = operator.itemgetter(1), reverse=False)\n",
    "    \n",
    "    for j in range(len(populationPerf)):              \n",
    "        populationSorted[j] = population[arraySorted[j][0]]\n",
    "    \n",
    "    return populationSorted"
   ]
  },
  {
   "cell_type": "code",
   "execution_count": 6,
   "metadata": {},
   "outputs": [],
   "source": [
    "def selectFromPopulation(populationSorted, best_sample, lucky_few):\n",
    "\tnextGeneration = []\n",
    "\tfor i in range(best_sample):\n",
    "\t\tnextGeneration.append(populationSorted[i])\n",
    "\tfor i in range(lucky_few):\n",
    "\t\tnextGeneration.append(random.choice(populationSorted))\n",
    "\trandom.shuffle(nextGeneration)\n",
    "\treturn nextGeneration"
   ]
  },
  {
   "cell_type": "code",
   "execution_count": 7,
   "metadata": {},
   "outputs": [],
   "source": [
    "def createChild(individual1, individual2):\n",
    "    child = []\n",
    "    \n",
    "    for i in range(len(individual1)):\n",
    "        if (int(100 * random.random()) < 50):\n",
    "            child.append(individual1[i])\n",
    "        else:\n",
    "            child.append(individual2[i])\n",
    "    \n",
    "    return child"
   ]
  },
  {
   "cell_type": "code",
   "execution_count": 8,
   "metadata": {},
   "outputs": [],
   "source": [
    "def createChildren(breeders, number_of_child):\n",
    "    nextPopulation = []\n",
    "\n",
    "    for i in range(len(breeders)// 2):\n",
    "        for j in range(number_of_child):\n",
    "            nextPopulation.append(createChild(breeders[i], breeders[len(breeders) -1 -i]))\n",
    "    return nextPopulation"
   ]
  },
  {
   "cell_type": "code",
   "execution_count": 9,
   "metadata": {},
   "outputs": [],
   "source": [
    "def mutateWord(ind,bounds):\n",
    "    index_modification = int(random.random() * len(ind))\n",
    "    new_value = random.uniform(bounds[j][0],bounds[j][1])\n",
    "    new_ind = ind\n",
    "    new_ind[index_modification] = new_value\n",
    "    return ind"
   ]
  },
  {
   "cell_type": "code",
   "execution_count": 10,
   "metadata": {},
   "outputs": [],
   "source": [
    "def mutatePopulation(population, chance_of_mutation, bounds):\n",
    "    \n",
    "    for i in range(len(population)):\n",
    "        for j in range(len(bounds)):\n",
    "            if random.random() * 100 < chance_of_mutation:\n",
    "                population[i][j] = random.uniform(bounds[j][0],bounds[j][1])\n",
    "                \n",
    "    return population"
   ]
  },
  {
   "cell_type": "code",
   "execution_count": 11,
   "metadata": {},
   "outputs": [],
   "source": [
    "def nextGeneration (firstGeneration, bounds, best_sample, lucky_few, number_of_child, chance_of_mutation):\n",
    "\t populationSorted = computePerfPopulation(firstGeneration)\n",
    "\t nextBreeders = selectFromPopulation(populationSorted, best_sample, lucky_few)\n",
    "     \n",
    "\t nextPopulation = createChildren(nextBreeders, number_of_child)\n",
    "\t nextGeneration = mutatePopulation(nextPopulation, chance_of_mutation, bounds)\n",
    "\t return nextGeneration"
   ]
  },
  {
   "cell_type": "code",
   "execution_count": 12,
   "metadata": {},
   "outputs": [],
   "source": [
    "def multipleGeneration(number_of_generation, bounds, size_population, best_sample, lucky_few, number_of_child, chance_of_mutation):\n",
    "    historic = []\n",
    "    historic.append(generateFirstPopulation(size_population, bounds))\n",
    "    \n",
    "    for i in range (number_of_generation):\n",
    "        historic.append(nextGeneration(historic[i], bounds, best_sample, lucky_few, number_of_child, chance_of_mutation))\n",
    "    return historic"
   ]
  },
  {
   "cell_type": "code",
   "execution_count": 13,
   "metadata": {},
   "outputs": [],
   "source": [
    "def getBestIndividualFromPopulation (population):\n",
    "\treturn computePerfPopulation(population)[0]"
   ]
  },
  {
   "cell_type": "code",
   "execution_count": 14,
   "metadata": {},
   "outputs": [],
   "source": [
    "def getListBestIndividualFromHistorique (historic):\n",
    "\tbestIndividuals = []\n",
    "\tfor population in historic:\n",
    "\t\tbestIndividuals.append(getBestIndividualFromPopulation(population))\n",
    "\treturn bestIndividuals"
   ]
  },
  {
   "cell_type": "code",
   "execution_count": 15,
   "metadata": {},
   "outputs": [],
   "source": [
    "def mejorSolucionPorIteracion(historic):        \t\n",
    "    evolutionFitness = []\n",
    "    for population in historic:\n",
    "        evolutionFitness.append(format(fitness(getBestIndividualFromPopulation(population)),'.10f' ))        \n",
    "    return evolutionFitness"
   ]
  },
  {
   "cell_type": "code",
   "execution_count": 16,
   "metadata": {},
   "outputs": [],
   "source": [
    "def evolutionAverageFitness(historic, size_population):\n",
    "    \n",
    "    evolutionFitness = []\n",
    "    for population in historic:\n",
    "        populationPerf = computePerfPopulation(population)\n",
    "        averageFitness = 0\n",
    "        \n",
    "        for i in range (len(populationPerf)):\n",
    "            averageFitness += fitness(populationPerf[i])\n",
    "        evolutionFitness.append(averageFitness/size_population)"
   ]
  },
  {
   "cell_type": "code",
   "execution_count": 17,
   "metadata": {},
   "outputs": [
    {
     "name": "stdout",
     "output_type": "stream",
     "text": [
      "\n",
      "\n",
      "Promedios de las iteraciones\n",
      "0.015914808\n",
      "0.009884720\n",
      "0.006010487\n",
      "0.003910180\n",
      "0.002541864\n",
      "0.002149473\n",
      "0.001731435\n",
      "0.001347890\n",
      "0.001292016\n",
      "0.001144307\n",
      "0.000972002\n",
      "0.000893440\n",
      "0.000740612\n",
      "0.000737714\n",
      "0.000695320\n",
      "0.000688255\n",
      "0.000671065\n",
      "0.000628702\n",
      "0.000624158\n",
      "0.000581436\n",
      "0.000549379\n",
      "0.000542302\n",
      "0.000499469\n",
      "0.000492200\n",
      "0.000479762\n",
      "0.000454261\n",
      "0.000434797\n",
      "0.000419068\n",
      "0.000392061\n",
      "0.000391683\n",
      "0.000346138\n",
      "0.000329118\n",
      "0.000308155\n",
      "0.000307649\n",
      "0.000299623\n",
      "0.000296506\n",
      "0.000286971\n",
      "0.000279632\n",
      "0.000263570\n",
      "0.000233022\n",
      "0.000219034\n",
      "0.000212451\n",
      "0.000213444\n",
      "0.000200827\n",
      "0.000201205\n",
      "0.000192000\n",
      "0.000172672\n",
      "0.000165568\n",
      "0.000155763\n",
      "0.000155842\n"
     ]
    }
   ],
   "source": [
    "bounds = [(-1,1),(-1,1)]\n",
    "size_population = 100\n",
    "best_sample = 20\n",
    "lucky_few = 20\n",
    "number_of_child = 5\n",
    "number_of_generation = 50\n",
    "chance_of_mutation = 5\n",
    "\n",
    "if ((best_sample + lucky_few) / 2 * number_of_child != size_population):\n",
    "\tprint (\"population size not stable\")\n",
    "else:    \n",
    "    iteraciones = []\n",
    "    promedios = []\n",
    "    \n",
    "    numero_iteraciones = 100\n",
    "    \n",
    "    for i in range(0,numero_iteraciones):\n",
    "        historic = multipleGeneration(number_of_generation, bounds, size_population, best_sample, lucky_few, number_of_child, chance_of_mutation)\n",
    "        \n",
    "        iteracionTemporal = mejorSolucionPorIteracion(historic)\n",
    "        iteraciones.append(iteracionTemporal)\n",
    "        \n",
    "    for i in range(0,number_of_generation):\n",
    "        sumatoria_temporal = 0\n",
    "        for j in range(0,numero_iteraciones):\n",
    "            sumatoria_temporal = sumatoria_temporal + float(iteraciones[j][i])\n",
    "            \n",
    "        promedio_temporal = sumatoria_temporal / numero_iteraciones\n",
    "        promedios.append(promedio_temporal)\n",
    "        \n",
    "    print (\"\\n\")\n",
    "    print (\"Promedios de las iteraciones\")\n",
    "    for i in range(0,number_of_generation):\n",
    "        print (\"%.9f\"%promedios[i])\n",
    "    "
   ]
  },
  {
   "cell_type": "code",
   "execution_count": null,
   "metadata": {},
   "outputs": [],
   "source": []
  }
 ],
 "metadata": {
  "kernelspec": {
   "display_name": "Python 3",
   "language": "python",
   "name": "python3"
  },
  "language_info": {
   "codemirror_mode": {
    "name": "ipython",
    "version": 3
   },
   "file_extension": ".py",
   "mimetype": "text/x-python",
   "name": "python",
   "nbconvert_exporter": "python",
   "pygments_lexer": "ipython3",
   "version": "3.8.3"
  }
 },
 "nbformat": 4,
 "nbformat_minor": 4
}
