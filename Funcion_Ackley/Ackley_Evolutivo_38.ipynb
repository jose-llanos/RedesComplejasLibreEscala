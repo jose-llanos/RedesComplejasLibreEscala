{
 "cells": [
  {
   "cell_type": "markdown",
   "metadata": {},
   "source": [
    "### Importando librerias"
   ]
  },
  {
   "cell_type": "code",
   "execution_count": 1,
   "metadata": {},
   "outputs": [],
   "source": [
    "import random\n",
    "import operator\n",
    "import math"
   ]
  },
  {
   "cell_type": "markdown",
   "metadata": {},
   "source": [
    "### Definicion de funciones"
   ]
  },
  {
   "cell_type": "markdown",
   "metadata": {},
   "source": [
    "#### Funcion fitness, recibe un arreglo x"
   ]
  },
  {
   "cell_type": "code",
   "execution_count": 2,
   "metadata": {},
   "outputs": [],
   "source": [
    "def fitness(x):\n",
    "    c=2*math.pi    \n",
    "    res1=math.sqrt(0.5*((x[0]**2)+(x[1]**2)))\n",
    "    sum1 = -20*math.exp(-0.2*(res1))    \n",
    "    res2=0.5*(math.cos(c*x[0])+math.cos(c*x[1]))\n",
    "    sum2 = -math.exp(res2)    \n",
    "    resultado =sum1 + sum2+ math.e + 20        \n",
    "    return resultado"
   ]
  },
  {
   "cell_type": "code",
   "execution_count": 3,
   "metadata": {},
   "outputs": [],
   "source": [
    "#genetic algorithm function\n",
    "def generateInd (bounds):\t\n",
    "   indv = []        \n",
    "   for j in range(len(bounds)):              \n",
    "       indv.append(random.uniform(bounds[j][0],bounds[j][1]))\n",
    "   return indv"
   ]
  },
  {
   "cell_type": "code",
   "execution_count": 4,
   "metadata": {},
   "outputs": [],
   "source": [
    "def generateFirstPopulation(sizePopulation, bounds):\n",
    "    population = []    \n",
    "    i = 0\n",
    "    while i < sizePopulation:\n",
    "        population.append(generateInd(bounds))\n",
    "        i+=1    \n",
    "    return population\n"
   ]
  },
  {
   "cell_type": "code",
   "execution_count": 5,
   "metadata": {},
   "outputs": [],
   "source": [
    "def computePerfPopulation(population):\n",
    "    populationPerf = {}\n",
    "    populationSorted = {}\n",
    "    i = 0\n",
    "    for individual in population:\n",
    "        populationPerf[i] = fitness(individual)\n",
    "        i+=1\n",
    "    arraySorted = sorted(populationPerf.items(), key = operator.itemgetter(1), reverse=False)\n",
    "    \n",
    "    for j in range(len(populationPerf)):              \n",
    "        populationSorted[j] = population[arraySorted[j][0]]\n",
    "    \n",
    "    return populationSorted"
   ]
  },
  {
   "cell_type": "code",
   "execution_count": 6,
   "metadata": {},
   "outputs": [],
   "source": [
    "def selectFromPopulation(populationSorted, best_sample, lucky_few):\n",
    "\tnextGeneration = []\n",
    "\tfor i in range(best_sample):\n",
    "\t\tnextGeneration.append(populationSorted[i])\n",
    "\tfor i in range(lucky_few):\n",
    "\t\tnextGeneration.append(random.choice(populationSorted))\n",
    "\trandom.shuffle(nextGeneration)\n",
    "\treturn nextGeneration\n"
   ]
  },
  {
   "cell_type": "code",
   "execution_count": 7,
   "metadata": {},
   "outputs": [],
   "source": [
    "def createChild(individual1, individual2):\n",
    "    child = []\n",
    "    \n",
    "    for i in range(len(individual1)):\n",
    "        if (int(100 * random.random()) < 50):\n",
    "            child.append(individual1[i])\n",
    "        else:\n",
    "            child.append(individual2[i])\n",
    "    \n",
    "    return child"
   ]
  },
  {
   "cell_type": "code",
   "execution_count": 8,
   "metadata": {},
   "outputs": [],
   "source": [
    "def createChildren(breeders, number_of_child):\n",
    "    nextPopulation = []\n",
    "\n",
    "    for i in range(len(breeders)//2):\n",
    "        for j in range(number_of_child):\n",
    "            nextPopulation.append(createChild(breeders[i], breeders[len(breeders) -1 -i]))\n",
    "    return nextPopulation"
   ]
  },
  {
   "cell_type": "code",
   "execution_count": 9,
   "metadata": {},
   "outputs": [],
   "source": [
    "def mutateWord(ind,bounds):\n",
    "    index_modification = int(random.random() * len(ind))\n",
    "    new_value = random.uniform(bounds[j][0],bounds[j][1])\n",
    "    new_ind = ind\n",
    "    new_ind[index_modification] = new_value\n",
    "    return ind"
   ]
  },
  {
   "cell_type": "code",
   "execution_count": 10,
   "metadata": {},
   "outputs": [],
   "source": [
    "def mutatePopulation(population, chance_of_mutation, bounds):\n",
    "    \n",
    "    for i in range(len(population)):\n",
    "        for j in range(len(bounds)):\n",
    "            if random.random() * 100 < chance_of_mutation:\n",
    "                population[i][j] = random.uniform(bounds[j][0],bounds[j][1])\n",
    "                \n",
    "    return population"
   ]
  },
  {
   "cell_type": "code",
   "execution_count": 11,
   "metadata": {},
   "outputs": [],
   "source": [
    "def nextGeneration (firstGeneration, bounds, best_sample, lucky_few, number_of_child, chance_of_mutation):\n",
    "\t populationSorted = computePerfPopulation(firstGeneration)\n",
    "\t nextBreeders = selectFromPopulation(populationSorted, best_sample, lucky_few)\n",
    "     \n",
    "\t nextPopulation = createChildren(nextBreeders, number_of_child)\n",
    "\t nextGeneration = mutatePopulation(nextPopulation, chance_of_mutation, bounds)\n",
    "\t return nextGeneration"
   ]
  },
  {
   "cell_type": "code",
   "execution_count": 12,
   "metadata": {},
   "outputs": [],
   "source": [
    "def multipleGeneration(number_of_generation, bounds, size_population, best_sample, lucky_few, number_of_child, chance_of_mutation):\n",
    "    historic = []\n",
    "    historic.append(generateFirstPopulation(size_population, bounds))\n",
    "    \n",
    "    for i in range (number_of_generation):\n",
    "        historic.append(nextGeneration(historic[i], bounds, best_sample, lucky_few, number_of_child, chance_of_mutation))\n",
    "    return historic"
   ]
  },
  {
   "cell_type": "code",
   "execution_count": 13,
   "metadata": {},
   "outputs": [],
   "source": [
    "def getBestIndividualFromPopulation (population):\n",
    "\treturn computePerfPopulation(population)[0]"
   ]
  },
  {
   "cell_type": "code",
   "execution_count": 14,
   "metadata": {},
   "outputs": [],
   "source": [
    "def getListBestIndividualFromHistorique (historic):\n",
    "\tbestIndividuals = []\n",
    "\tfor population in historic:\n",
    "\t\tbestIndividuals.append(getBestIndividualFromPopulation(population))\n",
    "\treturn bestIndividuals"
   ]
  },
  {
   "cell_type": "code",
   "execution_count": 15,
   "metadata": {},
   "outputs": [],
   "source": [
    "def mejorSolucionPorIteracion(historic):        \t\n",
    "    evolutionFitness = []\n",
    "    for population in historic:\n",
    "        evolutionFitness.append(format(fitness(getBestIndividualFromPopulation(population)),'.10f' ))        \n",
    "    return evolutionFitness"
   ]
  },
  {
   "cell_type": "code",
   "execution_count": 16,
   "metadata": {},
   "outputs": [],
   "source": [
    "def evolutionAverageFitness(historic, size_population):\n",
    "    \n",
    "    evolutionFitness = []\n",
    "    for population in historic:\n",
    "        populationPerf = computePerfPopulation(population)\n",
    "        averageFitness = 0\n",
    "        \n",
    "        for i in range (len(populationPerf)):\n",
    "            averageFitness += fitness(populationPerf[i])\n",
    "        evolutionFitness.append(averageFitness/size_population)"
   ]
  },
  {
   "cell_type": "code",
   "execution_count": 17,
   "metadata": {},
   "outputs": [
    {
     "name": "stdout",
     "output_type": "stream",
     "text": [
      "\n",
      "\n",
      "Promedios de las iteraciones\n",
      "2.645732684\n",
      "2.200870490\n",
      "1.836609558\n",
      "1.306127266\n",
      "1.020065589\n",
      "0.875395408\n",
      "0.762663224\n",
      "0.692029982\n",
      "0.645283639\n",
      "0.617873225\n",
      "0.594208465\n",
      "0.585397419\n",
      "0.545367780\n",
      "0.531443466\n",
      "0.511416234\n",
      "0.504151260\n",
      "0.488613209\n",
      "0.440341847\n",
      "0.442203591\n",
      "0.416119062\n",
      "0.380795032\n",
      "0.374315500\n",
      "0.339057184\n",
      "0.313823784\n",
      "0.311345046\n",
      "0.293681164\n",
      "0.277495281\n",
      "0.275750401\n",
      "0.259043587\n",
      "0.249355802\n",
      "0.230165902\n",
      "0.224648117\n",
      "0.215575081\n",
      "0.200813615\n",
      "0.197846889\n",
      "0.195609160\n",
      "0.192168999\n",
      "0.192288390\n",
      "0.184799553\n",
      "0.185908388\n",
      "0.179231966\n",
      "0.166652093\n",
      "0.154438527\n",
      "0.145791952\n",
      "0.143425076\n",
      "0.143142475\n",
      "0.140998538\n",
      "0.138263523\n",
      "0.129330011\n",
      "0.126066912\n"
     ]
    }
   ],
   "source": [
    "bounds = [(-5,5),(-5,5)]\n",
    "size_population = 100\n",
    "best_sample = 20\n",
    "lucky_few = 20\n",
    "number_of_child = 5\n",
    "number_of_generation = 50\n",
    "chance_of_mutation = 5\n",
    "\n",
    "if ((best_sample + lucky_few) / 2 * number_of_child != size_population):\n",
    "\tprint (\"population size not stable\")\n",
    "else:    \n",
    "    iteraciones = []\n",
    "    promedios = []\n",
    "    \n",
    "    numero_iteraciones = 100\n",
    "    \n",
    "    for i in range(0,numero_iteraciones):\n",
    "        historic = multipleGeneration(number_of_generation, bounds, size_population, best_sample, lucky_few, number_of_child, chance_of_mutation)\n",
    "        \n",
    "        iteracionTemporal = mejorSolucionPorIteracion(historic)\n",
    "        iteraciones.append(iteracionTemporal)\n",
    "        \n",
    "    for i in range(0,number_of_generation):\n",
    "        sumatoria_temporal = 0\n",
    "        for j in range(0,numero_iteraciones):\n",
    "            sumatoria_temporal = sumatoria_temporal + float(iteraciones[j][i])\n",
    "            \n",
    "        promedio_temporal = sumatoria_temporal / numero_iteraciones\n",
    "        promedios.append(promedio_temporal)\n",
    "    res=open(\"ResultadosTXT/Ackley_evolutive.txt\",\"w\")      \n",
    "    print (\"\\n\")\n",
    "    print (\"Promedios de las iteraciones\")\n",
    "    for i in range(0,number_of_generation):\n",
    "        res.write(str(promedios[i])+',')\n",
    "        print (\"%.9f\"%promedios[i])\n",
    "    res.close()"
   ]
  },
  {
   "cell_type": "code",
   "execution_count": null,
   "metadata": {},
   "outputs": [],
   "source": []
  }
 ],
 "metadata": {
  "kernelspec": {
   "display_name": "Python 3",
   "language": "python",
   "name": "python3"
  },
  "language_info": {
   "codemirror_mode": {
    "name": "ipython",
    "version": 3
   },
   "file_extension": ".py",
   "mimetype": "text/x-python",
   "name": "python",
   "nbconvert_exporter": "python",
   "pygments_lexer": "ipython3",
   "version": "3.8.3"
  }
 },
 "nbformat": 4,
 "nbformat_minor": 4
}
