{
 "cells": [
  {
   "cell_type": "code",
   "execution_count": 1,
   "metadata": {},
   "outputs": [],
   "source": [
    "import random,math\n",
    "\n",
    "import networkx as nx"
   ]
  },
  {
   "cell_type": "code",
   "execution_count": 2,
   "metadata": {},
   "outputs": [],
   "source": [
    "def func1(x):\n",
    "    c=2*math.pi    \n",
    "    res1=math.sqrt(0.5*((x[0]**2)+(x[1]**2)))\n",
    "    sum1 = -20*math.exp(-0.2*(res1))    \n",
    "    res2=0.5*(math.cos(c*x[0])+math.cos(c*x[1]))\n",
    "    sum2 = -math.exp(res2)    \n",
    "    resultado =sum1 + sum2+ math.e + 20        \n",
    "    return resultado"
   ]
  },
  {
   "cell_type": "code",
   "execution_count": 3,
   "metadata": {},
   "outputs": [],
   "source": [
    "def ensure_bounds(vec, bounds):\n",
    "\n",
    "    vec_new = []\n",
    "    for i in range(len(vec)):\n",
    "\n",
    "        if vec[i] < bounds[i][0]:\n",
    "            vec_new.append(bounds[i][0])\n",
    "\n",
    "        if vec[i] > bounds[i][1]:\n",
    "            vec_new.append(bounds[i][1])\n",
    "\n",
    "        if bounds[i][0] <= vec[i] <= bounds[i][1]:\n",
    "            vec_new.append(vec[i])\n",
    "        \n",
    "    return vec_new"
   ]
  },
  {
   "cell_type": "code",
   "execution_count": 4,
   "metadata": {},
   "outputs": [],
   "source": [
    "cost_func = func1                   # Cost function\n",
    "bounds = [(-5,5),(-5,5)]    # Bounds [(x1_min, x1_max), (x2_min, x2_max),...]\n",
    "popsize = 100                       # Population size, must be >= 4\n",
    "mutate = 0.1                        # Mutation factor [0,2]\n",
    "rewiring = 0.3                      # Recombination rate [0,1]\n",
    "maxiter = 50                        # Max number of generations (maxiter)"
   ]
  },
  {
   "cell_type": "code",
   "execution_count": 5,
   "metadata": {},
   "outputs": [],
   "source": [
    "def main(cost_func, bounds, popsize, mutate, rewiring, maxiter):\n",
    "    G = nx.generators.random_graphs.watts_strogatz_graph(popsize,3,rewiring)\n",
    "    \n",
    "    population = []\n",
    "    for i in range(0,popsize):\n",
    "        indv = []\n",
    "        for j in range(len(bounds)):\n",
    "            indv.append(random.uniform(bounds[j][0],bounds[j][1]))\n",
    "        population.append(indv)\n",
    "    scores = []    \n",
    "    \n",
    "    for l in range(0,maxiter):            \n",
    "        gen_scores=[]    \n",
    "        for j in range(0, popsize):        \n",
    "            candidato = population[j]            \n",
    "            \n",
    "            mejor_vecino = 0\n",
    "            puntaje_mejor_vecino = 100000000\n",
    "            \n",
    "            for k in G[j]:\n",
    "                fitness_vecino = cost_func(population[k])\n",
    "                if(fitness_vecino<puntaje_mejor_vecino):\n",
    "                    puntaje_mejor_vecino = fitness_vecino\n",
    "                    mejor_vecino = k\n",
    "                \n",
    "            if(puntaje_mejor_vecino<100000000):\n",
    "                pareja = population[mejor_vecino]                \n",
    "                child = []\n",
    "                \n",
    "                for i in range(len(candidato)):\n",
    "                    if (int(100 * random.random()) < 50):\n",
    "                        child.append(candidato[i])\n",
    "                    else:\n",
    "                        child.append(pareja[i])\n",
    "                        \n",
    "                for i in range(len(bounds)):\n",
    "                    if random.random() < mutate:\n",
    "                         child[i] = random.uniform(bounds[i][0],bounds[i][1])   \n",
    "                         \n",
    "                score_individuo  = cost_func(candidato)\n",
    "                score_child = cost_func(child)\n",
    "                \n",
    "                if(score_child < score_individuo):                    \n",
    "                    population[j] =  child\n",
    "                    G.add_edge(j,mejor_vecino)\n",
    "                    gen_scores.append(score_child)\n",
    "                gen_scores.append(score_individuo)\n",
    "                \n",
    "        for j in range(0, popsize):            \n",
    "            aristas = G.adj[j]\n",
    "            \n",
    "            vecinos=[]\n",
    "            for k in aristas:                \n",
    "                vecinos.append(k)                        \n",
    "            \n",
    "            for i in range(0,len(vecinos)):\n",
    "                if random.random() < rewiring:\n",
    "                    \n",
    "                    random_index = int(random.random()*100)\n",
    "                    G.remove_edge(j, vecinos[i])\n",
    "                    G.add_edge(j,random_index)\n",
    "                    \n",
    "        gen_best = min(gen_scores)\n",
    "        scores.append(gen_best)\n",
    "        \n",
    "    return scores"
   ]
  },
  {
   "cell_type": "code",
   "execution_count": 6,
   "metadata": {},
   "outputs": [
    {
     "name": "stdout",
     "output_type": "stream",
     "text": [
      "\n",
      "\n",
      "Promedios de las iteraciones\n",
      "2.124307280;1.723464118;1.331577314;1.018839693;0.798195999;0.666029703;0.547955317;0.442709366;0.382365228;0.349030378;0.321864762;0.302317650;0.276514908;0.251066854;0.236224796;0.222887060;0.203917412;0.195156585;0.186885122;0.181158468;0.172369069;0.167427564;0.164120606;0.151750838;0.148027399;0.145384671;0.137799246;0.136535648;0.130011047;0.127955966;0.129497579;0.122582445;0.118478017;0.117852511;0.112966025;0.112705493;0.107349170;0.105929316;0.104667102;0.104040011;0.102434866;0.097089631;0.098055736;0.092628263;0.091754858;0.090147086;0.088917998;0.086906204;0.086450137;0.081161111;"
     ]
    }
   ],
   "source": [
    "iteraciones = []      \n",
    "promedios = []\n",
    "\n",
    "numero_iteraciones = 100\n",
    "\n",
    "for i in range(0,numero_iteraciones):\n",
    "    iteracionTemporal = main(cost_func, bounds, popsize, mutate, rewiring, maxiter)\n",
    "    iteraciones.append(iteracionTemporal)\n",
    "    \n",
    "for i in range(0,maxiter):\n",
    "    sumatoria_temporal = 0\n",
    "    for j in range(0,numero_iteraciones):\n",
    "        sumatoria_temporal = sumatoria_temporal + iteraciones[j][i]\n",
    "        \n",
    "    promedio_temporal = sumatoria_temporal / numero_iteraciones\n",
    "    promedios.append(promedio_temporal)\n",
    "res=open(\"ResultadosTXT/Ackley_sw_best.txt\",\"w\") \n",
    "print(\"\\n\")\n",
    "print(\"Promedios de las iteraciones\")\n",
    "for i in range(0,maxiter):\n",
    "    #print(promedios[i])\n",
    "    res.write(str(promedios[i])+',')\n",
    "    print(\"%.9f\"%promedios[i], end=';')\n",
    "res.close()"
   ]
  },
  {
   "cell_type": "code",
   "execution_count": null,
   "metadata": {},
   "outputs": [],
   "source": []
  }
 ],
 "metadata": {
  "kernelspec": {
   "display_name": "Python 3",
   "language": "python",
   "name": "python3"
  },
  "language_info": {
   "codemirror_mode": {
    "name": "ipython",
    "version": 3
   },
   "file_extension": ".py",
   "mimetype": "text/x-python",
   "name": "python",
   "nbconvert_exporter": "python",
   "pygments_lexer": "ipython3",
   "version": "3.8.3"
  }
 },
 "nbformat": 4,
 "nbformat_minor": 4
}
