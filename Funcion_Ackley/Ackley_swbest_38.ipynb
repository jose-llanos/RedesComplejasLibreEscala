{
 "cells": [
  {
   "cell_type": "code",
   "execution_count": 1,
   "metadata": {},
   "outputs": [],
   "source": [
    "import random,math\n",
    "\n",
    "import networkx as nx"
   ]
  },
  {
   "cell_type": "code",
   "execution_count": 2,
   "metadata": {},
   "outputs": [],
   "source": [
    "def func1(x):\n",
    "    c=2*math.pi    \n",
    "    res1=math.sqrt(0.5*((x[0]**2)+(x[1]**2)))\n",
    "    sum1 = -20*math.exp(-0.2*(res1))    \n",
    "    res2=0.5*(math.cos(c*x[0])+math.cos(c*x[1]))\n",
    "    sum2 = -math.exp(res2)    \n",
    "    resultado =sum1 + sum2+ math.e + 20        \n",
    "    return resultado"
   ]
  },
  {
   "cell_type": "code",
   "execution_count": 3,
   "metadata": {},
   "outputs": [],
   "source": [
    "def ensure_bounds(vec, bounds):\n",
    "\n",
    "    vec_new = []\n",
    "    for i in range(len(vec)):\n",
    "\n",
    "        if vec[i] < bounds[i][0]:\n",
    "            vec_new.append(bounds[i][0])\n",
    "\n",
    "        if vec[i] > bounds[i][1]:\n",
    "            vec_new.append(bounds[i][1])\n",
    "\n",
    "        if bounds[i][0] <= vec[i] <= bounds[i][1]:\n",
    "            vec_new.append(vec[i])\n",
    "        \n",
    "    return vec_new"
   ]
  },
  {
   "cell_type": "code",
   "execution_count": 4,
   "metadata": {},
   "outputs": [],
   "source": [
    "cost_func = func1                   # Cost function\n",
    "bounds = [(-5,5),(-5,5)]    # Bounds [(x1_min, x1_max), (x2_min, x2_max),...]\n",
    "popsize = 100                       # Population size, must be >= 4\n",
    "mutate = 0.1                        # Mutation factor [0,2]\n",
    "rewiring = 0.3                      # Recombination rate [0,1]\n",
    "maxiter = 50                        # Max number of generations (maxiter)"
   ]
  },
  {
   "cell_type": "code",
   "execution_count": 5,
   "metadata": {},
   "outputs": [],
   "source": [
    "def main(cost_func, bounds, popsize, mutate, rewiring, maxiter):\n",
    "    G = nx.generators.random_graphs.watts_strogatz_graph(popsize,3,rewiring)\n",
    "    \n",
    "    population = []\n",
    "    for i in range(0,popsize):\n",
    "        indv = []\n",
    "        for j in range(len(bounds)):\n",
    "            indv.append(random.uniform(bounds[j][0],bounds[j][1]))\n",
    "        population.append(indv)\n",
    "    scores = []    \n",
    "    \n",
    "    for l in range(0,maxiter):            \n",
    "        gen_scores=[]    \n",
    "        for j in range(0, popsize):        \n",
    "            candidato = population[j]            \n",
    "            \n",
    "            mejor_vecino = 0\n",
    "            puntaje_mejor_vecino = 100000000\n",
    "            \n",
    "            for k in G[j]:\n",
    "                fitness_vecino = cost_func(population[k])\n",
    "                if(fitness_vecino<puntaje_mejor_vecino):\n",
    "                    puntaje_mejor_vecino = fitness_vecino\n",
    "                    mejor_vecino = k\n",
    "                \n",
    "            if(puntaje_mejor_vecino<100000000):\n",
    "                pareja = population[mejor_vecino]                \n",
    "                child = []\n",
    "                \n",
    "                for i in range(len(candidato)):\n",
    "                    if (int(100 * random.random()) < 50):\n",
    "                        child.append(candidato[i])\n",
    "                    else:\n",
    "                        child.append(pareja[i])\n",
    "                        \n",
    "                for i in range(len(bounds)):\n",
    "                    if random.random() < mutate:\n",
    "                         child[i] = random.uniform(bounds[i][0],bounds[i][1])   \n",
    "                         \n",
    "                score_individuo  = cost_func(candidato)\n",
    "                score_child = cost_func(child)\n",
    "                \n",
    "                if(score_child < score_individuo):                    \n",
    "                    population[j] =  child\n",
    "                    G.add_edge(j,mejor_vecino)\n",
    "                    gen_scores.append(score_child)\n",
    "                gen_scores.append(score_individuo)\n",
    "                \n",
    "        for j in range(0, popsize):            \n",
    "            aristas = G.adj[j]\n",
    "            \n",
    "            vecinos=[]\n",
    "            for k in aristas:                \n",
    "                vecinos.append(k)                        \n",
    "            \n",
    "            for i in range(0,len(vecinos)):\n",
    "                if random.random() < rewiring:\n",
    "                    \n",
    "                    random_index = int(random.random()*100)\n",
    "                    G.remove_edge(j, vecinos[i])\n",
    "                    G.add_edge(j,random_index)\n",
    "                    \n",
    "        gen_best = min(gen_scores)\n",
    "        scores.append(gen_best)\n",
    "        \n",
    "    return scores"
   ]
  },
  {
   "cell_type": "code",
   "execution_count": 7,
   "metadata": {},
   "outputs": [
    {
     "name": "stdout",
     "output_type": "stream",
     "text": [
      "\n",
      "\n",
      "Promedios de las iteraciones\n",
      "2.273387763;1.959721885;1.545483170;1.141281066;0.894068473;0.678918899;0.545547656;0.445142391;0.391213275;0.336023048;0.318546187;0.279243757;0.266422306;0.259522160;0.241554545;0.205451803;0.179366181;0.171350711;0.169823997;0.159245412;0.133004498;0.131649798;0.128228896;0.118590791;0.113600262;0.106139138;0.104701866;0.101865621;0.101308454;0.098672466;0.095138651;0.094406822;0.091908558;0.089286655;0.087764695;0.085434612;0.083773628;0.078975545;0.078468112;0.076795067;0.076182418;0.076207702;0.076274975;0.075195531;0.071483499;0.070444068;0.070258420;0.070258420;0.069035725;0.068928186;"
     ]
    }
   ],
   "source": [
    "iteraciones = []      \n",
    "promedios = []\n",
    "\n",
    "numero_iteraciones = 100\n",
    "\n",
    "for i in range(0,numero_iteraciones):\n",
    "    iteracionTemporal = main(cost_func, bounds, popsize, mutate, rewiring, maxiter)\n",
    "    iteraciones.append(iteracionTemporal)\n",
    "    \n",
    "for i in range(0,maxiter):\n",
    "    sumatoria_temporal = 0\n",
    "    for j in range(0,numero_iteraciones):\n",
    "        sumatoria_temporal = sumatoria_temporal + iteraciones[j][i]\n",
    "        \n",
    "    promedio_temporal = sumatoria_temporal / numero_iteraciones\n",
    "    promedios.append(promedio_temporal)\n",
    "res=open(\"ResultadosTXT/Ackley_swbest.txt\",\"w\") \n",
    "print(\"\\n\")\n",
    "print(\"Promedios de las iteraciones\")\n",
    "for i in range(0,maxiter):\n",
    "    #print(promedios[i])\n",
    "    res.write(str(promedios[i])+',')\n",
    "    print(\"%.9f\"%promedios[i], end=';')\n",
    "res.close()"
   ]
  },
  {
   "cell_type": "code",
   "execution_count": null,
   "metadata": {},
   "outputs": [],
   "source": []
  }
 ],
 "metadata": {
  "kernelspec": {
   "display_name": "Python 3",
   "language": "python",
   "name": "python3"
  },
  "language_info": {
   "codemirror_mode": {
    "name": "ipython",
    "version": 3
   },
   "file_extension": ".py",
   "mimetype": "text/x-python",
   "name": "python",
   "nbconvert_exporter": "python",
   "pygments_lexer": "ipython3",
   "version": "3.8.3"
  }
 },
 "nbformat": 4,
 "nbformat_minor": 4
}
